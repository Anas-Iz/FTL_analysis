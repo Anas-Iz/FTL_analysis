{
 "cells": [
  {
   "cell_type": "code",
   "execution_count": null,
   "metadata": {},
   "outputs": [],
   "source": [
    "import pandas as pd\n",
    "from datetime import datetime\n",
    "import plotly.graph_objects as go\n",
    "import ipywidgets as widgets\n",
    "from IPython.display import display\n",
    "\n",
    "csv_path = 'allData.csv'              # Path to your CSV\n",
    "datetime_column = 'date'              # Adjust if needed\n",
    "datetime_format = '%Y-%m-%d_%H:%M:%S' # Your datetime format\n",
    "\n",
    "df = pd.read_csv(csv_path)\n",
    "df[datetime_column] = pd.to_datetime(df[datetime_column], format=datetime_format)\n",
    "start_time = df[datetime_column].iloc[0]\n",
    "df['elapsed_sec'] = (df[datetime_column] - start_time).dt.total_seconds()\n",
    "\n",
    "print(\"\\nAvailable Columns:\")\n",
    "print(df.columns.tolist())\n"
   ]
  },
  {
   "cell_type": "code",
   "execution_count": null,
   "metadata": {},
   "outputs": [],
   "source": [
    "import ipywidgets as widgets\n",
    "from IPython.display import display\n",
    "\n",
    "available_columns = [col for col in df.columns if df[col].dtype != 'object' and col != datetime_column]\n",
    "\n",
    "multi_select = widgets.SelectMultiple(\n",
    "    options=available_columns,\n",
    "    description='Columns',\n",
    "    rows=10,\n",
    "    layout=widgets.Layout(width='50%')\n",
    ")\n",
    "\n",
    "confirm_button = widgets.Button(description=\"Confirm selection\")\n",
    "output = widgets.Output()\n",
    "\n",
    "def on_confirm_clicked(b):\n",
    "    with output:\n",
    "        output.clear_output()\n",
    "        selected = list(multi_select.value)\n",
    "        print(\"You selected:\", selected)\n",
    "        # Here you can assign to a global variable or proceed with plotting, etc.\n",
    "        global columns_to_plot\n",
    "        columns_to_plot = selected\n",
    "\n",
    "display(multi_select, confirm_button, output)\n",
    "confirm_button.on_click(on_confirm_clicked)\n"
   ]
  },
  {
   "cell_type": "code",
   "execution_count": null,
   "metadata": {},
   "outputs": [],
   "source": [
    "columns_to_plot = list(multi_select.value)\n",
    "if not columns_to_plot:\n",
    "    # If no columns selected, default to all numeric except datetime\n",
    "    columns_to_plot = available_columns\n",
    "\n",
    "print(\"Selected columns:\", columns_to_plot)\n"
   ]
  },
  {
   "cell_type": "code",
   "execution_count": null,
   "metadata": {},
   "outputs": [],
   "source": [
    "filter_option = input(\"\\nFilter by (1) elapsed seconds or (2) absolute datetime? (1/2/n): \").strip()\n",
    "\n",
    "if filter_option == '1':\n",
    "    t_start_input = input(\"Start time in seconds from start (or press Enter to skip): \").strip()\n",
    "    t_end_input = input(\"End time in seconds from start (or press Enter to skip): \").strip()\n",
    "\n",
    "    t_start = float(t_start_input) if t_start_input else df['elapsed_sec'].min()\n",
    "    t_end = float(t_end_input) if t_end_input else df['elapsed_sec'].max()\n",
    "    df = df[df['elapsed_sec'].between(t_start, t_end)]\n",
    "\n",
    "elif filter_option == '2':\n",
    "    dt_start_input = input(\"Start datetime (YYYY-MM-DD_HH:MM:SS) or press Enter to skip: \").strip()\n",
    "    dt_end_input = input(\"End datetime (YYYY-MM-DD_HH:MM:SS) or press Enter to skip: \").strip()\n",
    "\n",
    "    dt_start = datetime.strptime(dt_start_input, datetime_format) if dt_start_input else df[datetime_column].min()\n",
    "    dt_end = datetime.strptime(dt_end_input, datetime_format) if dt_end_input else df[datetime_column].max()\n",
    "    df = df[df[datetime_column].between(dt_start, dt_end)]\n",
    "\n",
    "else:\n",
    "    print(\"\\nNo time filter selected — showing all rows.\")\n"
   ]
  },
  {
   "cell_type": "code",
   "execution_count": null,
   "metadata": {},
   "outputs": [],
   "source": [
    "x_axis_choice = input(\"Use 'elapsed_sec' or 'date' as x-axis? (elapsed/date): \").strip().lower()\n",
    "x_column = 'elapsed_sec' if x_axis_choice == 'elapsed' else datetime_column\n",
    "\n",
    "grouping_series = df['elapsed_sec'].astype(int).rename('elapsed_sec_int')\n",
    "df_downsampled = df.groupby(grouping_series).first().reset_index(drop=False)\n",
    "\n",
    "if x_column == 'elapsed_sec':\n",
    "    x_plot = 'elapsed_sec_int'\n",
    "else:\n",
    "    x_plot = datetime_column\n"
   ]
  },
  {
   "cell_type": "code",
   "execution_count": null,
   "metadata": {},
   "outputs": [],
   "source": [
    "import plotly.graph_objects as go\n",
    "import numpy as np\n",
    "\n",
    "fig = go.Figure()\n",
    "\n",
    "for col in columns_to_plot:\n",
    "    y_raw = df_downsampled[col]\n",
    "    y_min = y_raw.min()\n",
    "    y_max = y_raw.max()\n",
    "    \n",
    "    if y_max == y_min:\n",
    "        y_norm = np.zeros_like(y_raw)\n",
    "    else:\n",
    "        y_norm = (y_raw - y_min) / (y_max - y_min)\n",
    "    \n",
    "    fig.add_trace(go.Scatter(\n",
    "        x=df_downsampled[x_plot],\n",
    "        y=y_norm,\n",
    "        mode='lines+markers',\n",
    "        name=col,\n",
    "        customdata=np.stack((y_raw,), axis=-1),\n",
    "        hovertemplate='%{x}<br>' + col + ': %{customdata[0]:.3f}<extra></extra>'\n",
    "    ))\n",
    "\n",
    "fig.update_layout(\n",
    "    title=\"Normalized Selected Data Over Time\",\n",
    "    xaxis_title=x_column,\n",
    "    yaxis_title=\"Normalized Value (0 to 1)\",\n",
    "    hovermode='x unified',\n",
    "    width=900,\n",
    "    height=500,\n",
    "    template='plotly_white'\n",
    ")\n",
    "\n",
    "fig.show()\n"
   ]
  }
 ],
 "metadata": {
  "kernelspec": {
   "display_name": "venv",
   "language": "python",
   "name": "python3"
  },
  "language_info": {
   "codemirror_mode": {
    "name": "ipython",
    "version": 3
   },
   "file_extension": ".py",
   "mimetype": "text/x-python",
   "name": "python",
   "nbconvert_exporter": "python",
   "pygments_lexer": "ipython3",
   "version": "3.11.3"
  }
 },
 "nbformat": 4,
 "nbformat_minor": 2
}
